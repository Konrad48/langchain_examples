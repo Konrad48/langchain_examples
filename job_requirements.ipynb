{
 "cells": [
  {
   "cell_type": "code",
   "execution_count": null,
   "metadata": {},
   "outputs": [],
   "source": [
    "from dotenv import load_dotenv\n",
    "\n",
    "load_dotenv()"
   ]
  },
  {
   "cell_type": "code",
   "execution_count": null,
   "metadata": {},
   "outputs": [],
   "source": [
    "import requests\n",
    "\n",
    "def save_html_from_dict(urls_and_filenames):\n",
    "    retrieved_files = []\n",
    "    for pair in urls_and_filenames:\n",
    "        url = pair['url']\n",
    "        file_name = pair['file_name']\n",
    "\n",
    "        response = requests.get(url)\n",
    "\n",
    "        if response.status_code == 200:\n",
    "            html_content = response.text\n",
    "\n",
    "            with open(file_name, \"w\", encoding=\"utf-8\") as file:\n",
    "                file.write(html_content)\n",
    "\n",
    "            retrieved_files.append(file_name)\n",
    "            print(\"HTML content from\", url, \"saved to\", file_name)\n",
    "        else:\n",
    "            print(\"Failed to fetch content from\", url)\n",
    "\n",
    "    return retrieved_files\n",
    "\n",
    "# URLs and corresponding file names in a list of dictionaries\n",
    "urls_and_filenames = [\n",
    "    {'url': 'HERE_GOES_WEBSITE_URL', 'file_name': 'output1.html'}, # There can be as many websites as needed\n",
    "]\n",
    "\n",
    "# Save HTML content from multiple URLs using the dictionary list\n",
    "retrieved_files = save_html_from_dict(urls_and_filenames)\n",
    "\n",
    "print(\"Retrieved files:\", retrieved_files)\n"
   ]
  },
  {
   "cell_type": "code",
   "execution_count": null,
   "metadata": {},
   "outputs": [],
   "source": [
    "\n",
    "from langchain_community.document_loaders import BSHTMLLoader\n",
    "\n",
    "loaded_data = []\n",
    "\n",
    "for path in retrieved_files:\n",
    "    loader = BSHTMLLoader(file_path=path, open_encoding='utf-8')\n",
    "    data = loader.load()\n",
    "    loaded_data.extend(data)\n",
    "loaded_data\n"
   ]
  },
  {
   "cell_type": "code",
   "execution_count": null,
   "metadata": {},
   "outputs": [],
   "source": [
    "from langchain.text_splitter import CharacterTextSplitter\n",
    "text_splitter = CharacterTextSplitter(separator=\"\\n\", chunk_size=1000, chunk_overlap=200)\n",
    "\n",
    "docs = text_splitter.split_documents(loaded_data)\n",
    "docs"
   ]
  },
  {
   "cell_type": "code",
   "execution_count": null,
   "metadata": {},
   "outputs": [],
   "source": [
    "from langchain.embeddings import OpenAIEmbeddings\n",
    "from langchain.vectorstores.faiss import FAISS\n",
    "\n",
    "db = FAISS.from_documents(docs, OpenAIEmbeddings())\n",
    "db"
   ]
  },
  {
   "cell_type": "code",
   "execution_count": null,
   "metadata": {},
   "outputs": [],
   "source": [
    "docs_similarity = db.similarity_search(query='', k=4)\n",
    "docs_page_content = \" \" .join([doc.page_content for doc in docs_similarity])"
   ]
  },
  {
   "cell_type": "code",
   "execution_count": null,
   "metadata": {},
   "outputs": [],
   "source": [
    "from langchain_community.chat_models import ChatOpenAI\n",
    "from langchain.prompts import PromptTemplate\n",
    "from langchain.chains import LLMChain\n",
    "llm = ChatOpenAI(model_name=\"gpt-3.5-turbo\")\n",
    "\n",
    "prompt = PromptTemplate(\n",
    "    input_variables=[\"question\", \"docs\"],\n",
    "    template=\"\"\"\n",
    "    Jesteś pomocnym asystentem, który potrafi odpowiadać na pytania dotyczące zadań, wymagań i mile widzianych umiejętności w ofertach pracy na stronach internetowych.\n",
    "\n",
    "    Odpowiedz na następujące pytanie: {question}\n",
    "    Szukając następującej strony internetowej: {docs}\n",
    "\n",
    "    Wykorzystaj tylko faktyczne informacje z transkryptu, aby odpowiedzieć na pytanie.\n",
    "\n",
    "    Jeśli uważasz, że nie masz wystarczających informacji, aby odpowiedzieć na pytanie, powiedz \"Nie wiem\".\n",
    "\n",
    "    Twoje odpowiedzi powinny być obszerne i szczegółowe.\n",
    "    \"\"\",\n",
    ")\n",
    "\n",
    "chain = LLMChain(llm=llm, prompt=prompt)\n"
   ]
  },
  {
   "cell_type": "code",
   "execution_count": null,
   "metadata": {},
   "outputs": [],
   "source": [
    "response = chain.run(question=\"Jakie są wymagania dla PHP web developera\", docs=docs_page_content)\n",
    "print(response)"
   ]
  }
 ],
 "metadata": {
  "kernelspec": {
   "display_name": "openai-env",
   "language": "python",
   "name": "python3"
  },
  "language_info": {
   "codemirror_mode": {
    "name": "ipython",
    "version": 3
   },
   "file_extension": ".py",
   "mimetype": "text/x-python",
   "name": "python",
   "nbconvert_exporter": "python",
   "pygments_lexer": "ipython3",
   "version": "3.10.5"
  }
 },
 "nbformat": 4,
 "nbformat_minor": 2
}
